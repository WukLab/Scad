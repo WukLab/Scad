{
 "cells": [
  {
   "cell_type": "code",
   "execution_count": 1,
   "id": "initial_id",
   "metadata": {
    "ExecuteTime": {
     "end_time": "2023-11-26T05:50:43.156045Z",
     "start_time": "2023-11-26T05:50:43.030407Z"
    },
    "collapsed": true
   },
   "outputs": [
    {
     "name": "stdout",
     "output_type": "stream",
     "text": [
      "/home/junda/Scad/runtime/test/src/tpcds_1_cpp/analysis_memory\r\n"
     ]
    }
   ],
   "source": [
    "!pwd"
   ]
  },
  {
   "cell_type": "code",
   "execution_count": 2,
   "id": "6039ab0841cd112b",
   "metadata": {
    "ExecuteTime": {
     "end_time": "2023-11-26T05:50:52.904811Z",
     "start_time": "2023-11-26T05:50:52.545429Z"
    },
    "collapsed": false
   },
   "outputs": [],
   "source": [
    "import argparse\n",
    "import json\n",
    "import re\n",
    "import subprocess\n",
    "from pathlib import Path\n",
    "from typing import TypedDict\n",
    "\n",
    "import pandas as pd\n"
   ]
  },
  {
   "cell_type": "code",
   "execution_count": 5,
   "id": "2e348b6fc092137f",
   "metadata": {
    "ExecuteTime": {
     "end_time": "2023-11-26T05:51:28.289705Z",
     "start_time": "2023-11-26T05:51:28.282573Z"
    },
    "collapsed": false
   },
   "outputs": [],
   "source": [
    "memlog_path = Path(\"./tpcds_1.mem.log\")\n",
    "exec_path = Path(\"../tpcds_1_mem\")\n",
    "source_path = Path(\"../reference_mem.cpp\")"
   ]
  },
  {
   "cell_type": "code",
   "execution_count": 6,
   "id": "6ac38436d3e0f11f",
   "metadata": {
    "ExecuteTime": {
     "end_time": "2023-11-26T05:51:33.887271Z",
     "start_time": "2023-11-26T05:51:29.189710Z"
    },
    "collapsed": false
   },
   "outputs": [],
   "source": [
    "memlog = []\n",
    "with open(memlog_path, 'r') as f:\n",
    "    lines = f.readlines()\n",
    "    for _line in lines:\n",
    "        item = json.loads(_line)\n",
    "        memlog.append(item)"
   ]
  },
  {
   "cell_type": "code",
   "execution_count": null,
   "id": "e18d6f0c4d4c1a7a",
   "metadata": {
    "collapsed": false
   },
   "outputs": [],
   "source": []
  }
 ],
 "metadata": {
  "kernelspec": {
   "display_name": "Python 3",
   "language": "python",
   "name": "python3"
  },
  "language_info": {
   "codemirror_mode": {
    "name": "ipython",
    "version": 2
   },
   "file_extension": ".py",
   "mimetype": "text/x-python",
   "name": "python",
   "nbconvert_exporter": "python",
   "pygments_lexer": "ipython2",
   "version": "2.7.6"
  }
 },
 "nbformat": 4,
 "nbformat_minor": 5
}
