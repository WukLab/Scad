{
 "cells": [
  {
   "cell_type": "code",
   "execution_count": 70,
   "metadata": {},
   "outputs": [
    {
     "name": "stdout",
     "output_type": "stream",
     "text": [
      "Library path already set once.\n"
     ]
    }
   ],
   "source": [
    "\n",
    "from functools import lru_cache\n",
    "from pathlib import Path\n",
    "\n",
    "import clang\n",
    "import clang.cindex\n",
    "from clang.cindex import CursorKind\n",
    "\n",
    "try:\n",
    "    # Set library file for clang.cindex\n",
    "    clang.cindex.Config.set_library_file(\"/home/junda/.local/lib/python3.8/site-packages/clang/native/libclang-16.so\")\n",
    "except:\n",
    "    print(\"Library path already set once.\")\n",
    "    pass\n",
    "\n"
   ]
  },
  {
   "cell_type": "code",
   "execution_count": null,
   "metadata": {},
   "outputs": [],
   "source": []
  },
  {
   "cell_type": "code",
   "execution_count": 71,
   "metadata": {},
   "outputs": [],
   "source": [
    "def parse_file(path):\n",
    "    idx = clang.cindex.Index.create()\n",
    "    source_path = path\n",
    "    home_path = Path.home()\n",
    "    tu = idx.parse(\n",
    "        path, args=[\n",
    "            # On macos\n",
    "            # '-I/usr/lib/clang/11/include',\n",
    "            # '-std=c++17',\n",
    "            # '-I/mnt/ssd2/junda/.pyenv/versions/3.10.6/include/python3.10',\n",
    "            # '-I/home/junda/.pyenv/versions/3.10.6/lib/python3.10/site-packages/numpy/core/include',\n",
    "            '-I/usr/include/python3.8', # TODO: I'm using python3.8.10\n",
    "            '-I/usr/lib/llvm-10/lib/clang/10.0.0/include',\n",
    "            '-I/home/junda/.local/lib/python3.8/site-packages/numpy/core/include',\n",
    "            '-std=c++17',\n",
    "        ])\n",
    "    for diag in tu.diagnostics:\n",
    "        import warnings\n",
    "        warnings.warn(str(diag))\n",
    "    if tu.diagnostics:\n",
    "        warnings.warn(\n",
    "            \"Compiler error usually cause error to program analysis. If encountered downstream exception, consider look at function `parse_file` and alter the compiler flags.\")\n",
    "    return tu\n"
   ]
  },
  {
   "cell_type": "code",
   "execution_count": 72,
   "metadata": {},
   "outputs": [],
   "source": [
    "\n",
    "def describe(node):\n",
    "    return (node.kind.name, getattr(node.kind, \"displayname\", \"\"), node.spelling, node.extent)\n",
    "\n",
    "\n",
    "def describe_concise(node):\n",
    "    f = node.extent.start.file.name\n",
    "    return (node.kind.name, getattr(node.kind, \"displayname\", \"\"), node.spelling, f\"{node.extent.start.line}:{node.extent.start.column}~{node.extent.end.line}:{node.extent.end.column}\")\n",
    "\n",
    "\n",
    "# @lru_cache(maxsize=None)\n",
    "def get_source_file(file_path):\n",
    "    with open(file_path) as f:\n",
    "        return f.read().splitlines(True)\n",
    "\n",
    "\n",
    "def get_source_line(file_path, start, end):\n",
    "    lines = get_source_file(file_path)\n",
    "    return '\\n'.join(lines[start.line - 1:end.line])\n",
    "\n",
    "\n",
    "def describe_with_source(node):\n",
    "    f = node.extent.start.file.name\n",
    "    return (f\"{node.extent.start.line}:{node.extent.start.column}~{node.extent.end.line}:{node.extent.end.column}\",\n",
    "            get_source_line(f, node.extent.start, node.extent.end))\n",
    "\n",
    "def traverse_children(node: 'clang.cindex.Cursor', depth=0, describe_func=describe, max_depth=None):\n",
    "    kwargs = dict(locals())\n",
    "    kwargs.pop('node')\n",
    "    kwargs.pop('depth')\n",
    "    if max_depth is not None and depth > max_depth:\n",
    "        return\n",
    "    print('  ' * depth, *describe_func(node))\n",
    "    for child in node.get_children():\n",
    "        traverse_children(child, **kwargs, depth=depth + 1)\n",
    "\n",
    "\n",
    "def locate_function_decl(root, name: str):\n",
    "    \"\"\"\n",
    "    Traverse the AST to find the function declaration with the spelling matching the `name`.\n",
    "    :param root:\n",
    "    :param name:\n",
    "    :return:\n",
    "    \"\"\"\n",
    "\n",
    "    def _traverse(node: 'clang.cindex.Cursor'):\n",
    "        if node.kind == clang.cindex.CursorKind.FUNCTION_DECL and node.spelling == name:\n",
    "            return node\n",
    "        for child in node.get_children():\n",
    "            result = _traverse(child)\n",
    "            if result is not None:\n",
    "                return result\n",
    "        return None\n",
    "\n",
    "    return _traverse(root)\n",
    "\n",
    "\n",
    "def get_used_node_types(target):\n",
    "    node_types = set()\n",
    "\n",
    "    def get_all_used_node_types(node):\n",
    "        node_types.add(node.kind)\n",
    "        for child in node.get_children():\n",
    "            get_all_used_node_types(child)\n",
    "\n",
    "    get_all_used_node_types(target)\n",
    "    return node_types\n",
    "\n"
   ]
  },
  {
   "cell_type": "code",
   "execution_count": 73,
   "metadata": {},
   "outputs": [],
   "source": [
    "\n",
    "def parse_args():\n",
    "    import argparse\n",
    "    parser = argparse.ArgumentParser()\n",
    "    parser.add_argument('source_path', type=Path, )\n",
    "    parser.add_argument('--target_function', type=str, default=\"main\")\n",
    "    return parser.parse_args()"
   ]
  },
  {
   "cell_type": "code",
   "execution_count": 74,
   "metadata": {},
   "outputs": [],
   "source": [
    "path = Path(\"/home/junda/Scad/runtime/test/src/compress/simplemt.cpp\")\n",
    "target_function = \"main\"\n",
    "\n",
    "tu = parse_file(path)\n",
    "_main_func = locate_function_decl(tu.cursor, target_function)\n",
    "if not _main_func:\n",
    "    raise ValueError(f\"Cannot find function {target_function}\")"
   ]
  },
  {
   "cell_type": "code",
   "execution_count": 75,
   "metadata": {},
   "outputs": [],
   "source": [
    "def traverse_top_ish(node, depth=0, describe_func=describe_concise):\n",
    "    \"\"\"Only if the staetment is a compound statement you wil\"\"\"\n",
    "    kwargs = dict(locals())\n",
    "    kwargs.pop('node')\n",
    "    kwargs.pop('depth')\n",
    "    if node.kind not in [CursorKind.RETURN_STMT, CursorKind.PARM_DECL]:\n",
    "        print('  ' * depth, *describe_func(node))\n",
    "    for child in node.get_children():\n",
    "        if node.kind not in [CursorKind.COMPOUND_STMT, CursorKind.FUNCTION_DECL]:\n",
    "            continue\n",
    "        traverse_top_ish(child, **kwargs, depth=depth + 1)\n",
    "    return\n",
    "        "
   ]
  },
  {
   "cell_type": "code",
   "execution_count": 76,
   "metadata": {},
   "outputs": [],
   "source": [
    "def collect_top_ish(root):\n",
    "    result = [] # Collect the leaves\n",
    "    def _collect(node):\n",
    "        if node.kind not in [CursorKind.COMPOUND_STMT, CursorKind.FUNCTION_DECL] + [CursorKind.RETURN_STMT, CursorKind.PARM_DECL]:\n",
    "            result.append(node)\n",
    "        for child in node.get_children():\n",
    "            if node.kind not in [CursorKind.COMPOUND_STMT, CursorKind.FUNCTION_DECL]:\n",
    "                continue\n",
    "            _collect(child)\n",
    "        return\n",
    "    _collect(root)\n",
    "    return result"
   ]
  },
  {
   "cell_type": "code",
   "execution_count": 77,
   "metadata": {},
   "outputs": [],
   "source": [
    "def describe_with_offset(node):\n",
    "    f = node.extent.start.file.name\n",
    "    return (node.kind.name, getattr(node.kind, \"displayname\", \"\"), node.spelling, f\"{node.extent.start.line}:{node.extent.start.column}~{node.extent.end.line}:{node.extent.end.column}\", f\"offset={node.extent.start.offset}~{node.extent.end.offset}\")\n"
   ]
  },
  {
   "cell_type": "code",
   "execution_count": 78,
   "metadata": {},
   "outputs": [
    {
     "name": "stdout",
     "output_type": "stream",
     "text": [
      "CALL_EXPR  operator<< 36:5~36:45\n",
      "DECL_STMT   37:5~37:28\n",
      "DECL_STMT   38:5~38:19\n",
      "FOR_STMT   39:5~41:6\n",
      "FOR_STMT   44:5~46:6\n",
      "CALL_EXPR  operator<< 48:5~48:43\n"
     ]
    },
    {
     "data": {
      "text/plain": [
       "[<clang.cindex.Cursor at 0x7f3fe007ddc0>,\n",
       " <clang.cindex.Cursor at 0x7f3fe007d7c0>,\n",
       " <clang.cindex.Cursor at 0x7f3fe007dac0>,\n",
       " <clang.cindex.Cursor at 0x7f3fe007d3c0>,\n",
       " <clang.cindex.Cursor at 0x7f3fd01ba9c0>,\n",
       " <clang.cindex.Cursor at 0x7f3fd01bacc0>]"
      ]
     },
     "execution_count": 78,
     "metadata": {},
     "output_type": "execute_result"
    }
   ],
   "source": [
    "# traverse_top_ish(_main_func, describe_func=describe_with_offset)\n",
    "result = collect_top_ish(_main_func)\n",
    "for i in result:\n",
    "    print(*describe_concise(i))\n",
    "result"
   ]
  },
  {
   "cell_type": "code",
   "execution_count": 79,
   "metadata": {},
   "outputs": [
    {
     "data": {
      "text/plain": [
       "PosixPath('/home/junda/Scad/runtime/test/src/compress/simplemt_annotated.cpp')"
      ]
     },
     "execution_count": 79,
     "metadata": {},
     "output_type": "execute_result"
    }
   ],
   "source": [
    "# Now copy the original file, and insert the annotation.\n",
    "import shutil\n",
    "path.name\n",
    "new_path = path.parent / (path.stem + \"_annotated.cpp\")\n",
    "shutil.copy(path, new_path)"
   ]
  },
  {
   "cell_type": "code",
   "execution_count": 80,
   "metadata": {},
   "outputs": [],
   "source": [
    "def get_time_macro_start(name, line):\n",
    "    return '{' + f'__stgst(\"{name}\", {line});' + '}'\n",
    "\n",
    "def get_time_macro_end(name, line):\n",
    "    return '{' + f'__stged(\"{name}\", {line});' + '}'"
   ]
  },
  {
   "cell_type": "code",
   "execution_count": 81,
   "metadata": {},
   "outputs": [],
   "source": [
    "codes = get_source_file(path)\n",
    "codes = [i.strip('\\n') for i in codes]\n"
   ]
  },
  {
   "cell_type": "code",
   "execution_count": 82,
   "metadata": {},
   "outputs": [
    {
     "name": "stdout",
     "output_type": "stream",
     "text": [
      "48 5 48 43     cout << \"Main thread finished\" << endl;\n",
      "\n",
      "48 {__stgst(\"6\", 48);}    cout << \"Main thread finished\" << endl;\n",
      "48 {__stgst(\"6\", 48);}    cout << \"Main thread finished\" << endl;{__stged(\"6\", 48);}\n",
      "44 5 46 6     for (int i = 0; i < size; i++){\n",
      "\n",
      "        threads[i].join();\n",
      "\n",
      "    }\n",
      "\n",
      "44 {__stgst(\"5\", 44);}    for (int i = 0; i < size; i++){\n",
      "46     }{__stged(\"5\", 46);}\n",
      "39 5 41 6     for (int i = 0; i < size; i++){\n",
      "\n",
      "        threads.push_back(thread(work, i, size));\n",
      "\n",
      "    }\n",
      "\n",
      "39 {__stgst(\"4\", 39);}    for (int i = 0; i < size; i++){\n",
      "41     }{__stged(\"4\", 41);}\n",
      "38 5 38 19     int size = 32;\n",
      "\n",
      "38 {__stgst(\"3\", 38);}    int size = 32;\n",
      "38 {__stgst(\"3\", 38);}    int size = 32;{__stged(\"3\", 38);}\n",
      "37 5 37 28     vector<thread> threads;\n",
      "\n",
      "37 {__stgst(\"2\", 37);}    vector<thread> threads;\n",
      "37 {__stgst(\"2\", 37);}    vector<thread> threads;{__stged(\"2\", 37);}\n",
      "36 5 36 45     cout << \"Hello from main thread\" << endl;\n",
      "\n",
      "36 {__stgst(\"1\", 36);}    cout << \"Hello from main thread\" << endl;\n",
      "36 {__stgst(\"1\", 36);}    cout << \"Hello from main thread\" << endl;{__stged(\"1\", 36);}\n"
     ]
    }
   ],
   "source": [
    "# Now traverse the `result` in reverse order, and insert the annotation.\n",
    "# at the end of the offset, insert the annotation \n",
    "for i, node in enumerate(result[::-1]):\n",
    "    name_idx = len(result) - i\n",
    "    print(node.extent.start.line, node.extent.start.column, node.extent.end.line, node.extent.end.column, get_source_line(node.extent.start.file.name, node.extent.start, node.extent.end))\n",
    "    st, ed = node.extent.start.line, node.extent.end.line\n",
    "    st_macro = get_time_macro_start(name_idx, st)\n",
    "    codes[st - 1] = st_macro + codes[st - 1]\n",
    "    print(st, codes[st - 1])\n",
    "\n",
    "    ed_macro = get_time_macro_end(name_idx, ed)\n",
    "    codes[ed - 1] = codes[ed - 1] + ed_macro\n",
    "    print(ed, codes[ed - 1])\n",
    "\n",
    "codes = [\n",
    "    '#include <chrono>',\n",
    "    '#define __stgcommon(name, line, status) {auto t = std::chrono::high_resolution_clock::now(); std::cerr << name << \",\" << status << \",\" << line << \",\" << std::chrono::duration_cast<std::chrono::nanoseconds>(t.time_since_epoch()).count() << std::endl;}',\n",
    "    '#define __stgst(name, line) {__stgcommon(name, line, \"start\")}',\n",
    "    '#define __stged(name, line) {__stgcommon(name, line, \"end\")}',\n",
    "] + codes\n",
    "\n",
    "codes = [i + '\\n' for i in codes]\n",
    "\n",
    "with open(new_path, 'w') as f:\n",
    "    f.writelines(codes)"
   ]
  },
  {
   "cell_type": "code",
   "execution_count": 83,
   "metadata": {},
   "outputs": [
    {
     "name": "stdout",
     "output_type": "stream",
     "text": [
      "make: 'simplemt_annotated.out' is up to date.\n",
      "Hello from main thread\n",
      "Hello from thread 0 of 32\n",
      "Hello from thread 1 of 32\n",
      "Hello from thread 2 of 32\n",
      "Hello from thread 3 of 32\n",
      "Hello from thread 4 of 32\n",
      "Hello from thread 5 of 32\n",
      "Hello from thread 6 of 32\n",
      "Hello from thread 7 of 32\n",
      "Hello from thread 8 of 32\n",
      "Hello from thread 9 of 32\n",
      "Hello from thread Hello from thread 1011 of  of 3232\n",
      "\n",
      "Hello from thread 12 of 32\n",
      "Hello from thread 13 of 32\n",
      "Hello from thread 14 of 32\n",
      "Hello from thread 15 of 32\n",
      "Hello from thread 16 of 32\n",
      "Hello from thread 17 of 32\n",
      "Hello from thread 18 of 32\n",
      "Hello from thread 19 of 32\n",
      "Hello from thread 20 of 32\n",
      "Hello from thread 21 of 32\n",
      "Hello from thread 22 of 32\n",
      "Hello from thread 23 of 32\n",
      "Hello from thread 24 of 32\n",
      "Hello from thread 25 of 32\n",
      "Hello from thread 26 of 32\n",
      "Hello from thread 27 of 32\n",
      "Hello from thread 28 of 32\n",
      "Hello from thread 29 of 32\n",
      "Hello from thread 30 of 32\n",
      "Hello from thread 31 of 32\n",
      "Thread 3 finished\n",
      "Thread 15 finished\n",
      "Thread 13 finished\n",
      "Thread 27 finished\n",
      "Thread 17 finished\n",
      "Thread 19 finished\n",
      "Thread 22 finished\n",
      "Thread 4 finished\n",
      "Thread 9 finished\n",
      "Thread 10 finished\n",
      "Thread 18 finished\n",
      "Thread 25 finished\n",
      "Thread 6 finished\n",
      "Thread 20 finished\n",
      "Thread 16 finished\n",
      "Thread 11 finished\n",
      "Thread 12 finished\n",
      "Thread 26 finished\n",
      "Thread 7 finished\n",
      "Thread 1 finished\n",
      "Thread 8 finished\n",
      "Thread 31 finished\n",
      "Thread 23 finished\n",
      "Thread 5 finished\n",
      "Thread 0 finished\n",
      "Thread 2 finished\n",
      "Thread 14 finished\n",
      "Thread 30 finished\n",
      "Thread 24 finished\n",
      "Thread 28 finished\n",
      "Thread 21 finished\n",
      "Thread 29 finished\n",
      "Main thread finished\n",
      "1,start,36,1701117635353763509\n",
      "1,end,36,1701117635353897833\n",
      "2,start,37,1701117635353937109\n",
      "2,end,37,1701117635353975644\n",
      "3,start,38,1701117635354013937\n",
      "3,end,38,1701117635354051667\n",
      "4,start,39,1701117635354107287\n",
      "4,end,41,1701117635355657968\n",
      "5,start,44,1701117635356191272\n",
      "5,end,46,1701117641687576231\n",
      "6,start,48,1701117641687662660\n",
      "6,end,48,1701117641687714683\n"
     ]
    }
   ],
   "source": [
    "! make simplemt_annotated.out\n",
    "! ./simplemt_annotated.out 2>simplemt_annotated.cpulog.csv"
   ]
  },
  {
   "cell_type": "code",
   "execution_count": null,
   "metadata": {},
   "outputs": [],
   "source": [
    "! cat simplemt_annotated.cpulog.csv"
   ]
  }
 ],
 "metadata": {
  "kernelspec": {
   "display_name": "Python 3",
   "language": "python",
   "name": "python3"
  },
  "language_info": {
   "codemirror_mode": {
    "name": "ipython",
    "version": 3
   },
   "file_extension": ".py",
   "mimetype": "text/x-python",
   "name": "python",
   "nbconvert_exporter": "python",
   "pygments_lexer": "ipython3",
   "version": "3.8.10"
  }
 },
 "nbformat": 4,
 "nbformat_minor": 2
}
